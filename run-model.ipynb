{
 "cells": [
  {
   "cell_type": "code",
   "execution_count": 58,
   "metadata": {},
   "outputs": [],
   "source": [
    "import numpy as np\n",
    "from tabulate import tabulate\n",
    "import cv2\n",
    "import os\n",
    "import random\n",
    "import matplotlib.pyplot as plt"
   ]
  },
  {
   "cell_type": "code",
   "execution_count": 59,
   "metadata": {},
   "outputs": [],
   "source": [
    "from tensorflow.keras import layers, models, Input"
   ]
  },
  {
   "cell_type": "code",
   "execution_count": 60,
   "metadata": {},
   "outputs": [],
   "source": [
    "DIRECTORY = r'.\\images'\n",
    "CATEGORIES = [\"real\", \"fake\"]\n",
    "IMG_SIZE = 256"
   ]
  },
  {
   "cell_type": "code",
   "execution_count": 61,
   "metadata": {},
   "outputs": [],
   "source": [
    "images = []\n",
    "img_names = []\n",
    "\n",
    "for img in os.listdir(DIRECTORY):\n",
    "    img_path = os.path.join(DIRECTORY, img)\n",
    "    img_arr = cv2.imread(img_path)\n",
    "    img_arr = cv2.resize(img_arr, (IMG_SIZE, IMG_SIZE))\n",
    "    images.append(img_arr)\n",
    "    img_names.append(img)"
   ]
  },
  {
   "cell_type": "code",
   "execution_count": 62,
   "metadata": {},
   "outputs": [],
   "source": [
    "images = np.array(images) / 255\n",
    "img_names = np.array(img_names)"
   ]
  },
  {
   "cell_type": "code",
   "execution_count": 63,
   "metadata": {},
   "outputs": [],
   "source": [
    "filename = 'model.sav'\n",
    "model = models.load_model('model.keras')"
   ]
  },
  {
   "cell_type": "code",
   "execution_count": null,
   "metadata": {},
   "outputs": [
    {
     "name": "stdout",
     "output_type": "stream",
     "text": [
      "\u001b[1m1/1\u001b[0m \u001b[32m━━━━━━━━━━━━━━━━━━━━\u001b[0m\u001b[37m\u001b[0m \u001b[1m0s\u001b[0m 37ms/step\n",
      "+---------------------+---------+--------------+\n",
      "| Image Name          | Label   | Confidence   |\n",
      "+=====================+=========+==============+\n",
      "| AI_Cat7.png         | fake    | 98%          |\n",
      "+---------------------+---------+--------------+\n",
      "| Real_Cat20.jpg      | real    | 2%           |\n",
      "+---------------------+---------+--------------+\n",
      "| totally ai fern.jpg | fake    | 70%          |\n",
      "+---------------------+---------+--------------+\n"
     ]
    }
   ],
   "source": [
    "predictions = model.predict(images)\n",
    "\n",
    "table_data = []\n",
    "for num in range(len(img_names)):\n",
    "    percent = predictions[num] * 100\n",
    "    if percent < 50:\n",
    "        label = \"real\"\n",
    "    else:\n",
    "        label = \"fake\"\n",
    "    table_data.append([img_names[num], label, f\"{percent[0]:.0f}%\"])\n",
    "\n",
    "headers = [\"Image File Name\", \"Real or Fake?\", \"Confidence\"]\n",
    "\n",
    "print(tabulate(table_data, headers=headers, tablefmt=\"grid\"))"
   ]
  }
 ],
 "metadata": {
  "kernelspec": {
   "display_name": "Python 3",
   "language": "python",
   "name": "python3"
  },
  "language_info": {
   "codemirror_mode": {
    "name": "ipython",
    "version": 3
   },
   "file_extension": ".py",
   "mimetype": "text/x-python",
   "name": "python",
   "nbconvert_exporter": "python",
   "pygments_lexer": "ipython3",
   "version": "3.11.9"
  }
 },
 "nbformat": 4,
 "nbformat_minor": 2
}

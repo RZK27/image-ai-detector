{
 "cells": [
  {
   "cell_type": "code",
   "execution_count": 111,
   "metadata": {},
   "outputs": [],
   "source": [
    "import numpy as np\n",
    "from tabulate import tabulate\n",
    "import cv2\n",
    "import os\n",
    "import random\n",
    "import matplotlib.pyplot as plt"
   ]
  },
  {
   "cell_type": "code",
   "execution_count": 112,
   "metadata": {},
   "outputs": [],
   "source": [
    "from tensorflow.keras import layers, models, Input"
   ]
  },
  {
   "cell_type": "code",
   "execution_count": 113,
   "metadata": {},
   "outputs": [],
   "source": [
    "DIRECTORY = r'.\\images'\n",
    "CATEGORIES = [\"real\", \"fake\"]\n",
    "IMG_SIZE = 256"
   ]
  },
  {
   "cell_type": "code",
   "execution_count": 114,
   "metadata": {},
   "outputs": [],
   "source": [
    "images = []\n",
    "img_names = []\n",
    "\n",
    "for img in os.listdir(DIRECTORY):\n",
    "    img_path = os.path.join(DIRECTORY, img)\n",
    "    img_arr = cv2.imread(img_path)\n",
    "    img_arr = cv2.resize(img_arr, (IMG_SIZE, IMG_SIZE))\n",
    "    images.append(img_arr)\n",
    "    img_names.append(img)"
   ]
  },
  {
   "cell_type": "code",
   "execution_count": 115,
   "metadata": {},
   "outputs": [],
   "source": [
    "images = np.array(images) / 255\n",
    "img_names = np.array(img_names)"
   ]
  },
  {
   "cell_type": "code",
   "execution_count": 116,
   "metadata": {},
   "outputs": [],
   "source": [
    "filename = 'model.sav'\n",
    "model = models.load_model('model.keras')"
   ]
  },
  {
   "cell_type": "code",
   "execution_count": 117,
   "metadata": {},
   "outputs": [
    {
     "name": "stdout",
     "output_type": "stream",
     "text": [
      "\u001b[1m1/1\u001b[0m \u001b[32m━━━━━━━━━━━━━━━━━━━━\u001b[0m\u001b[37m\u001b[0m \u001b[1m0s\u001b[0m 111ms/step\n",
      "+-------------------+-----------------+--------------+\n",
      "| Image File Name   | Real or Fake?   | Confidence   |\n",
      "+===================+=================+==============+\n",
      "| AI_Cat1.png       | real            | 49%          |\n",
      "+-------------------+-----------------+--------------+\n",
      "| AI_Cat2.png       | fake            | 83%          |\n",
      "+-------------------+-----------------+--------------+\n",
      "| AI_Cat256.jpg     | fake            | 100%         |\n",
      "+-------------------+-----------------+--------------+\n",
      "| AI_Cat257.jpg     | fake            | 94%          |\n",
      "+-------------------+-----------------+--------------+\n",
      "| AI_Cat7.png       | fake            | 98%          |\n",
      "+-------------------+-----------------+--------------+\n",
      "| aloe 2.HEIC       | real            | 5%           |\n",
      "+-------------------+-----------------+--------------+\n",
      "| aloe.JPG          | fake            | 51%          |\n",
      "+-------------------+-----------------+--------------+\n",
      "| fern.jpg          | fake            | 70%          |\n",
      "+-------------------+-----------------+--------------+\n",
      "| Real_Cat20.jpg    | real            | 2%           |\n",
      "+-------------------+-----------------+--------------+\n",
      "| Real_Cat251.jpg   | real            | 0%           |\n",
      "+-------------------+-----------------+--------------+\n",
      "| Real_Cat252.jpg   | real            | 0%           |\n",
      "+-------------------+-----------------+--------------+\n",
      "| Real_Cat259.jpg   | real            | 0%           |\n",
      "+-------------------+-----------------+--------------+\n",
      "| Real_Cat260.jpg   | real            | 5%           |\n",
      "+-------------------+-----------------+--------------+\n"
     ]
    }
   ],
   "source": [
    "predictions = model.predict(images)\n",
    "\n",
    "table_data = []\n",
    "for num in range(len(img_names)):\n",
    "    percent = predictions[num] * 100\n",
    "    if percent < 50:\n",
    "        label = \"real\"\n",
    "    else:\n",
    "        label = \"fake\"\n",
    "    table_data.append([img_names[num], label, f\"{percent[0]:.0f}%\"])\n",
    "\n",
    "headers = [\"Image File Name\", \"Real or Fake?\", \"Confidence\"]\n",
    "\n",
    "print(tabulate(table_data, headers=headers, tablefmt=\"grid\"))"
   ]
  }
 ],
 "metadata": {
  "kernelspec": {
   "display_name": "Python 3",
   "language": "python",
   "name": "python3"
  },
  "language_info": {
   "codemirror_mode": {
    "name": "ipython",
    "version": 3
   },
   "file_extension": ".py",
   "mimetype": "text/x-python",
   "name": "python",
   "nbconvert_exporter": "python",
   "pygments_lexer": "ipython3",
   "version": "3.11.9"
  }
 },
 "nbformat": 4,
 "nbformat_minor": 2
}

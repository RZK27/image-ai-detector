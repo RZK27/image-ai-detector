{
 "cells": [
  {
   "cell_type": "code",
   "execution_count": 1,
   "metadata": {},
   "outputs": [],
   "source": [
    "import numpy as np\n",
    "from tabulate import tabulate\n",
    "import cv2\n",
    "import os"
   ]
  },
  {
   "cell_type": "code",
   "execution_count": 2,
   "metadata": {},
   "outputs": [],
   "source": [
    "from tensorflow.keras import models"
   ]
  },
  {
   "cell_type": "code",
   "execution_count": 3,
   "metadata": {},
   "outputs": [],
   "source": [
    "DIRECTORY = r'images'\n",
    "CATEGORIES = [\"real\", \"fake\"]\n",
    "IMG_SIZE = 256"
   ]
  },
  {
   "cell_type": "code",
   "execution_count": 4,
   "metadata": {},
   "outputs": [],
   "source": [
    "images = []\n",
    "img_names = []\n",
    "\n",
    "for img in os.listdir(DIRECTORY):\n",
    "    img_path = os.path.join(DIRECTORY, img)\n",
    "    img_arr = cv2.imread(img_path)\n",
    "    img_arr = cv2.resize(img_arr, (IMG_SIZE, IMG_SIZE))\n",
    "    images.append(img_arr)\n",
    "    img_names.append(img)"
   ]
  },
  {
   "cell_type": "code",
   "execution_count": 5,
   "metadata": {},
   "outputs": [],
   "source": [
    "images = np.array(images) / 255\n",
    "img_names = np.array(img_names)"
   ]
  },
  {
   "cell_type": "code",
   "execution_count": 6,
   "metadata": {},
   "outputs": [],
   "source": [
    "filename = 'model.sav'\n",
    "model = models.load_model('model.keras')"
   ]
  },
  {
   "cell_type": "code",
   "execution_count": 7,
   "metadata": {},
   "outputs": [
    {
     "name": "stdout",
     "output_type": "stream",
     "text": [
      "(20, 256, 256, 3)\n"
     ]
    }
   ],
   "source": [
    "print(images.shape)"
   ]
  },
  {
   "cell_type": "code",
   "execution_count": 8,
   "metadata": {},
   "outputs": [
    {
     "name": "stdout",
     "output_type": "stream",
     "text": [
      "\u001b[1m1/1\u001b[0m \u001b[32m━━━━━━━━━━━━━━━━━━━━\u001b[0m\u001b[37m\u001b[0m \u001b[1m0s\u001b[0m 149ms/step\n"
     ]
    }
   ],
   "source": [
    "predictions = model.predict(images)"
   ]
  },
  {
   "cell_type": "code",
   "execution_count": 9,
   "metadata": {},
   "outputs": [
    {
     "name": "stdout",
     "output_type": "stream",
     "text": [
      "+-------------------+-----------------+--------------+\n",
      "| Image File Name   | Real or Fake?   | Confidence   |\n",
      "+===================+=================+==============+\n",
      "| AI_Cat1.png       | real            | 49%          |\n",
      "+-------------------+-----------------+--------------+\n",
      "| AI_Cat2.png       | fake            | 83%          |\n",
      "+-------------------+-----------------+--------------+\n",
      "| AI_Cat256.jpg     | fake            | 100%         |\n",
      "+-------------------+-----------------+--------------+\n",
      "| AI_Cat257.jpg     | fake            | 94%          |\n",
      "+-------------------+-----------------+--------------+\n",
      "| AI_Cat258.jpg     | real            | 22%          |\n",
      "+-------------------+-----------------+--------------+\n",
      "| AI_Cat259.jpg     | fake            | 100%         |\n",
      "+-------------------+-----------------+--------------+\n",
      "| AI_Cat260.jpg     | fake            | 97%          |\n",
      "+-------------------+-----------------+--------------+\n",
      "| AI_Cat3.png       | fake            | 100%         |\n",
      "+-------------------+-----------------+--------------+\n",
      "| AI_Cat4.png       | real            | 0%           |\n",
      "+-------------------+-----------------+--------------+\n",
      "| AI_Cat5.png       | fake            | 100%         |\n",
      "+-------------------+-----------------+--------------+\n",
      "| Real_Cat251.jpg   | real            | 0%           |\n",
      "+-------------------+-----------------+--------------+\n",
      "| Real_Cat252.jpg   | real            | 0%           |\n",
      "+-------------------+-----------------+--------------+\n",
      "| Real_Cat253.jpg   | real            | 10%          |\n",
      "+-------------------+-----------------+--------------+\n",
      "| Real_Cat254.jpg   | fake            | 67%          |\n",
      "+-------------------+-----------------+--------------+\n",
      "| Real_Cat255.jpg   | real            | 0%           |\n",
      "+-------------------+-----------------+--------------+\n",
      "| Real_Cat256.jpg   | real            | 1%           |\n",
      "+-------------------+-----------------+--------------+\n",
      "| Real_Cat257.jpg   | real            | 0%           |\n",
      "+-------------------+-----------------+--------------+\n",
      "| Real_Cat258.jpg   | real            | 2%           |\n",
      "+-------------------+-----------------+--------------+\n",
      "| Real_Cat259.jpg   | real            | 0%           |\n",
      "+-------------------+-----------------+--------------+\n",
      "| Real_Cat260.jpg   | real            | 5%           |\n",
      "+-------------------+-----------------+--------------+\n"
     ]
    }
   ],
   "source": [
    "table_data = []\n",
    "for num in range(len(img_names)):\n",
    "    percent = predictions[num] * 100\n",
    "    if percent < 50:\n",
    "        label = \"real\"\n",
    "    else:\n",
    "        label = \"fake\"\n",
    "    table_data.append([img_names[num], label, f\"{percent[0]:.0f}%\"])\n",
    "\n",
    "headers = [\"Image File Name\", \"Real or Fake?\", \"Confidence\"]\n",
    "\n",
    "print(tabulate(table_data, headers=headers, tablefmt=\"grid\"))"
   ]
  }
 ],
 "metadata": {
  "kernelspec": {
   "display_name": "Python 3",
   "language": "python",
   "name": "python3"
  },
  "language_info": {
   "codemirror_mode": {
    "name": "ipython",
    "version": 3
   },
   "file_extension": ".py",
   "mimetype": "text/x-python",
   "name": "python",
   "nbconvert_exporter": "python",
   "pygments_lexer": "ipython3",
   "version": "3.12.0"
  }
 },
 "nbformat": 4,
 "nbformat_minor": 2
}

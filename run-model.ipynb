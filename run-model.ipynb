{
 "cells": [
  {
   "cell_type": "code",
   "execution_count": null,
   "metadata": {},
   "outputs": [],
   "source": [
    "\"\"\"\n",
    "Group Number 65\n",
    "CPS 834\n",
    "11 30 2024\n",
    "\n",
    "Name                      Student Number      Email\n",
    "-----------------------------------------------------------------------------\n",
    "Harrison Kalathil         501138547           harrison.kalathil@torontomu.ca\n",
    "Maninder Arora            501041960           maninder.arora@torontomu.ca\n",
    "Rahabar Sekandar          501100634           rsekandar@torontomu.ca\n",
    "Steven Chen               501096820           steven1.chen@torontomu.ca\n",
    "\n",
    "This program allows one to use the model created in the ai-detector-trainer directory \n",
    "\"\"\""
   ]
  },
  {
   "cell_type": "code",
   "execution_count": null,
   "metadata": {},
   "outputs": [],
   "source": [
    "import numpy as np\n",
    "from tabulate import tabulate\n",
    "import cv2\n",
    "import os\n",
    "import setuptools.dist\n",
    "from tensorflow.keras import models"
   ]
  },
  {
   "cell_type": "code",
   "execution_count": null,
   "metadata": {},
   "outputs": [],
   "source": [
    "DIRECTORY = r'.\\data'          # Relative path where images are stored\n",
    "IMG_SIZE = 256                 # Image pixel width and height model was trained on"
   ]
  },
  {
   "cell_type": "code",
   "execution_count": null,
   "metadata": {},
   "outputs": [],
   "source": [
    "images = []     # Array to store images as arrays\n",
    "img_names = []  # Array to store images' file names respective\n",
    "                # to their index in images[]\n",
    "\n",
    "\n",
    "# Populate images[] with image-arrays and img_names[] with file names\n",
    "# using os to gather images and cv2 to resize and convert images to arrays\n",
    "for img in os.listdir(DIRECTORY):\n",
    "    img_path = os.path.join(DIRECTORY, img)\n",
    "    img_arr = cv2.imread(img_path)\n",
    "    img_arr = cv2.resize(img_arr, (IMG_SIZE, IMG_SIZE))\n",
    "    images.append(img_arr)\n",
    "    img_names.append(img)"
   ]
  },
  {
   "cell_type": "code",
   "execution_count": null,
   "metadata": {},
   "outputs": [],
   "source": [
    "# Convert arrays to numpy arrays for tensorflow\n",
    "images = np.array(images) / 255  #  Divide by 255 to convert pixel values (0-255) to decimal (0-1)\n",
    "img_names = np.array(img_names)"
   ]
  },
  {
   "cell_type": "code",
   "execution_count": null,
   "metadata": {},
   "outputs": [],
   "source": [
    "# Load model from working directory\n",
    "model = models.load_model('model.keras')"
   ]
  },
  {
   "cell_type": "code",
   "execution_count": null,
   "metadata": {},
   "outputs": [
    {
     "name": "stdout",
     "output_type": "stream",
     "text": [
      "\u001b[1m1/1\u001b[0m \u001b[32m━━━━━━━━━━━━━━━━━━━━\u001b[0m\u001b[37m\u001b[0m \u001b[1m0s\u001b[0m 149ms/step\n"
     ]
    }
   ],
   "source": [
    "# Create predictions on images (real or fake?) based on model\n",
    "predictions = model.predict(images)"
   ]
  },
  {
   "cell_type": "code",
   "execution_count": null,
   "metadata": {},
   "outputs": [
    {
     "name": "stdout",
     "output_type": "stream",
     "text": [
      "+-------------------+-----------------+--------------+\n",
      "| Image File Name   | Real or Fake?   | Confidence   |\n",
      "+===================+=================+==============+\n",
      "| AI_Cat1.png       | real            | 49%          |\n",
      "+-------------------+-----------------+--------------+\n",
      "| AI_Cat2.png       | fake            | 83%          |\n",
      "+-------------------+-----------------+--------------+\n",
      "| AI_Cat256.jpg     | fake            | 100%         |\n",
      "+-------------------+-----------------+--------------+\n",
      "| AI_Cat257.jpg     | fake            | 94%          |\n",
      "+-------------------+-----------------+--------------+\n",
      "| AI_Cat258.jpg     | real            | 22%          |\n",
      "+-------------------+-----------------+--------------+\n",
      "| AI_Cat259.jpg     | fake            | 100%         |\n",
      "+-------------------+-----------------+--------------+\n",
      "| AI_Cat260.jpg     | fake            | 97%          |\n",
      "+-------------------+-----------------+--------------+\n",
      "| AI_Cat3.png       | fake            | 100%         |\n",
      "+-------------------+-----------------+--------------+\n",
      "| AI_Cat4.png       | real            | 0%           |\n",
      "+-------------------+-----------------+--------------+\n",
      "| AI_Cat5.png       | fake            | 100%         |\n",
      "+-------------------+-----------------+--------------+\n",
      "| Real_Cat251.jpg   | real            | 0%           |\n",
      "+-------------------+-----------------+--------------+\n",
      "| Real_Cat252.jpg   | real            | 0%           |\n",
      "+-------------------+-----------------+--------------+\n",
      "| Real_Cat253.jpg   | real            | 10%          |\n",
      "+-------------------+-----------------+--------------+\n",
      "| Real_Cat254.jpg   | fake            | 67%          |\n",
      "+-------------------+-----------------+--------------+\n",
      "| Real_Cat255.jpg   | real            | 0%           |\n",
      "+-------------------+-----------------+--------------+\n",
      "| Real_Cat256.jpg   | real            | 1%           |\n",
      "+-------------------+-----------------+--------------+\n",
      "| Real_Cat257.jpg   | real            | 0%           |\n",
      "+-------------------+-----------------+--------------+\n",
      "| Real_Cat258.jpg   | real            | 2%           |\n",
      "+-------------------+-----------------+--------------+\n",
      "| Real_Cat259.jpg   | real            | 0%           |\n",
      "+-------------------+-----------------+--------------+\n",
      "| Real_Cat260.jpg   | real            | 5%           |\n",
      "+-------------------+-----------------+--------------+\n"
     ]
    }
   ],
   "source": [
    "# Use tabulate to present predictions on images\n",
    "# Confidence closer to 0 represents a prediction of 'real'\n",
    "# Confidence closer to 100 represents a prediction of 'fake', as in ai-generated\n",
    "table_data = []\n",
    "for num in range(len(img_names)):\n",
    "    percent = predictions[num] * 100\n",
    "    if percent < 50:\n",
    "        label = \"real\"\n",
    "    else:\n",
    "        label = \"fake\"\n",
    "    table_data.append([img_names[num], label, f\"{percent[0]:.0f}%\"])\n",
    "\n",
    "headers = [\"Image File Name\", \"Real or Fake?\", \"Confidence\"]\n",
    "\n",
    "print(tabulate(table_data, headers=headers, tablefmt=\"grid\"))"
   ]
  }
 ],
 "metadata": {
  "kernelspec": {
   "display_name": "Python 3",
   "language": "python",
   "name": "python3"
  },
  "language_info": {
   "codemirror_mode": {
    "name": "ipython",
    "version": 3
   },
   "file_extension": ".py",
   "mimetype": "text/x-python",
   "name": "python",
   "nbconvert_exporter": "python",
   "pygments_lexer": "ipython3",
   "version": "3.12.0"
  }
 },
 "nbformat": 4,
 "nbformat_minor": 2
}
